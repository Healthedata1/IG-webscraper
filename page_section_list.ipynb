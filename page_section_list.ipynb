{
 "cells": [
  {
   "cell_type": "markdown",
   "metadata": {},
   "source": [
    "### get list of headers for each page\n",
    "    - currently unable to get section numbers without using something like Selenium because the numbering is dynamic tp browser."
   ]
  },
  {
   "cell_type": "code",
   "execution_count": 27,
   "metadata": {},
   "outputs": [
    {
     "name": "stdout",
     "output_type": "stream",
     "text": [
      "\"Signatures\",\"https://hl7.org/fhir/us/davinci-cdex/signatures.html#\"\n",
      "\"About Signatures\",\"https://hl7.org/fhir/us/davinci-cdex/signatures.html#about-signatures\"\n",
      "\"The Signer\",\"https://hl7.org/fhir/us/davinci-cdex/signatures.html#the-signer\"\n",
      "\"What is Signed\",\"https://hl7.org/fhir/us/davinci-cdex/signatures.html#what-is-signed\"\n",
      "\"CDex Enveloped Signatures\",\"https://hl7.org/fhir/us/davinci-cdex/signatures.html#cdex-enveloped-signatures\"\n",
      "\"CDex Signature Profiles\",\"https://hl7.org/fhir/us/davinci-cdex/signatures.html#cdex-signature-profiles\"\n",
      "\"CDex Signature Datatype Profile\",\"https://hl7.org/fhir/us/davinci-cdex/signatures.html#cdex-signature-datatype-profile\"\n",
      "\"CDex Signature Bundle Profile\",\"https://hl7.org/fhir/us/davinci-cdex/signatures.html#cdex-signature-bundle-profile\"\n",
      "\"CDex SDC Questionnaire Response Profile\",\"https://hl7.org/fhir/us/davinci-cdex/signatures.html#cdex-sdc-questionnaire-response-profile\"\n",
      "\"Electronic Signatures\",\"https://hl7.org/fhir/us/davinci-cdex/signatures.html#electronic-signatures\"\n",
      "\"Electronic Signature Example\",\"https://hl7.org/fhir/us/davinci-cdex/signatures.html#electronic-signature-example\"\n",
      "\"Digital Signatures\",\"https://hl7.org/fhir/us/davinci-cdex/signatures.html#digital-signatures\"\n",
      "\"Digital Signature Rules For CDEX FHIR Bundle and QuestionnaireResponse\",\"https://hl7.org/fhir/us/davinci-cdex/signatures.html#digital-signature-rules-for-cdex-fhir-bundle-and-questionnaireresponse\"\n",
      "\"Sender/Signer Steps\",\"https://hl7.org/fhir/us/davinci-cdex/signatures.html#sendersigner-steps\"\n",
      "\"Receiver/Validation Steps\",\"https://hl7.org/fhir/us/davinci-cdex/signatures.html#receivervalidation-steps\"\n",
      "\"Step-by-Step Examples\",\"https://hl7.org/fhir/us/davinci-cdex/signatures.html#step-by-step-examples\"\n",
      "\"-\",\"-\",\n"
     ]
    }
   ],
   "source": [
    "import requests, re\n",
    "import warnings\n",
    "from bs4 import XMLParsedAsHTMLWarning, BeautifulSoup\n",
    "warnings.filterwarnings('ignore', category=XMLParsedAsHTMLWarning)\n",
    "\n",
    "base_url = \"https://hl7.org/fhir/us/davinci-cdex/\"\n",
    "\n",
    "Pages = {\n",
    "    \"About Signatures\": \"signatures.html\",\n",
    "    # \"The Signer\": \"signatures.html#the-signer\",\n",
    "    # \"What is Signed\": \"signatures.html#what-is-signed\",\n",
    "    # \"CDex Enveloped Signatures\": \"signatures.html#cdex-enveloped-signatures\",\n",
    "    # \"Electronic Signatures\": \"signatures.html#electronic-signatures\",\n",
    "    # \"Digital Signatures\": \"signatures.html#digital-signatures\",\n",
    "}\n",
    "\n",
    "Profiles = []\n",
    "\n",
    "# matches = [r'\\[.*?\\]',r'\\b(\\w+)(?:\\W+\\1\\b)+',]  #duplicate words, bad md links\n",
    "# # matches = [r'\\{\\{.*?\\}\\}',r'\\{%.*?%\\}',]  #liquid tags, filter\n",
    "# matches = ['git st','git pu', 'git co']  #liquid tags, filter\n",
    "\n",
    "\n",
    "for page in list(Pages.values()):\n",
    "    if page:\n",
    "        URL = f'{base_url}{page}'\n",
    "# for page in Profiles:\n",
    "#         URL = f\"{page.replace('http://hl7.org/fhir/us/core/StructureDefinition/', 'http://build.fhir.org/ig/HL7/US-Core/StructureDefinition-')}.html\"\n",
    "        # print(URL)\n",
    "        response = requests.get(URL)\n",
    "        bs = BeautifulSoup(response.text, 'html.parser')\n",
    "        # titles = bs.find('h2').text\n",
    "        # print(title)\n",
    "        titles = bs.find_all(['h1', 'h2','h3','h4','h5','h6'])\n",
    "        for title in titles:\n",
    "            print(f'\"{title.text}\",\"{URL}#{title.attrs.get(\"id\") if title.attrs.get(\"id\") else \"\"}\"')\n",
    "        # print('List all the header tags :', *titles , sep='\\n\\n')\n",
    "\n",
    "            \n",
    "        print('\"-\",\"-\",')"
   ]
  },
  {
   "cell_type": "code",
   "execution_count": null,
   "metadata": {},
   "outputs": [],
   "source": []
  }
 ],
 "metadata": {
  "kernelspec": {
   "display_name": "webscraper",
   "language": "python",
   "name": "python3"
  },
  "language_info": {
   "codemirror_mode": {
    "name": "ipython",
    "version": 3
   },
   "file_extension": ".py",
   "mimetype": "text/x-python",
   "name": "python",
   "nbconvert_exporter": "python",
   "pygments_lexer": "ipython3",
   "version": "3.7.12"
  },
  "orig_nbformat": 4,
  "vscode": {
   "interpreter": {
    "hash": "31bfea801cfa5e021964d5573b329b8237c9cd9155fe584db6e7861d478a0165"
   }
  }
 },
 "nbformat": 4,
 "nbformat_minor": 2
}
