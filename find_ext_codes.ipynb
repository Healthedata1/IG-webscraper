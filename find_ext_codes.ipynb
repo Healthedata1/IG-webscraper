{
 "cells": [
  {
   "cell_type": "markdown",
   "metadata": {},
   "source": [
    "## Find external code content using Web Scraping\n",
    "\n",
    "*requirements: Python 3.7.12+, requests, and, bs4 libraries. See the `requirements.txt` file*\n",
    "- search implementation guide web pages\n",
    "-  use package/spec internal resource to get all urls for IG\n",
    " - match text using regex\n",
    " - match codesystem urls ...\n",
    " - save as dict\n",
    " - print output "
   ]
  },
  {
   "cell_type": "code",
   "execution_count": 2,
   "metadata": {},
   "outputs": [
    {
     "name": "stdout",
     "output_type": "stream",
     "text": [
      "100\n",
      "my_targets= ['StructureDefinition-discharge-notification-messageheader.profile.json.html', 'StructureDefinition-notifications-bundle-examples.html', 'roles.html', 'StructureDefinition-notifications-messageheader-mappings.html', 'StructureDefinition-adt-notification-encounter-mappings.html', 'StructureDefinition-notifications-messageheader-testing.html', 'Bundle-discharge-notification-message-bundle-01.json.html', 'Bundle-admit-notification-message-bundle-01.html', 'StructureDefinition-adt-notification-encounter.html', 'StructureDefinition-adt-notification-coverage-definitions.html']\n",
      "...]\n"
     ]
    }
   ],
   "source": [
    "from bs4 import BeautifulSoup\n",
    "from requests import get\n",
    "from re import compile\n",
    "from pathlib import Path\n",
    "from json import loads\n",
    "\n",
    "base_url = \"http://hl7.org/fhir/us/davinci-alerts\"  # change this to your IG's base_url\n",
    "exclude =['.history.html','.ttl.html','.xml.html']  # exclude redundant pages that duplicate the content\n",
    "my_package = Path(r'/Users/ehaas/.fhir/packages/hl7.fhir.us.davinci-alerts#current/package/other/spec.internals')  # local package file to fetch the spec_internal files that lists all the IG page urls\n",
    "my_targets=loads(my_package.read_text())[\"targets\"] # read the spec internals files and get all the page url to scrape\n",
    "my_targets = [t for t in my_targets if not t.endswith(tuple(exclude))]\n",
    "print(len(my_targets))\n",
    "print(f\"my_targets= {my_targets[0:10]}\\n...]\")"
   ]
  },
  {
   "cell_type": "code",
   "execution_count": 3,
   "metadata": {},
   "outputs": [
    {
     "name": "stdout",
     "output_type": "stream",
     "text": [
      "------------------MATCH  FOUND !!!--------------------\n",
      "------------------MATCH  FOUND !!!--------------------\n",
      "------------------MATCH  FOUND !!!--------------------\n",
      "------------------MATCH  FOUND !!!--------------------\n",
      "------------------MATCH  FOUND !!!--------------------\n",
      "------------------MATCH  FOUND !!!--------------------\n",
      "------------------MATCH  FOUND !!!--------------------\n",
      "------------------MATCH  FOUND !!!--------------------\n",
      "------------------MATCH  FOUND !!!--------------------\n",
      "------------------MATCH  FOUND !!!--------------------\n",
      "------------------MATCH  FOUND !!!--------------------\n",
      "------------------MATCH  FOUND !!!--------------------\n"
     ]
    }
   ],
   "source": [
    "search_strings = ['LOINC','SNOMED', 'CPT', 'ICD', 'X12','NUCC', 'NUBC']  #External Codes Acronyms\n",
    "# search_strings = ['http://loinc.org',\n",
    "                  # 'http://snomed.info/sct',\n",
    "                  # 'http://www.ama-assn.org/go/cpt',\n",
    "                  # 'http://hl7.org/fhir/sid/icd-10',\n",
    "                  # 'http://hl7.org/fhir/sid/icd-9',\n",
    "                  # 'https://codesystem.x12.org',\n",
    "                  # 'http://cts.nlm.nih.gov/fhir/ValueSet/2.16.840.1.114222.4.11.1066',\n",
    "                  # 'https://www.nubc.org/CodeSystem/PatDischargeStatus',\n",
    "                  # 'http://www.ada.org/cdt',\n",
    "                  #  ]  #External Codes Systems\n",
    "# search_strings = ['X12']\n",
    "matches = {}\n",
    "for i,page in enumerate(my_targets):\n",
    "    URL = f'{base_url}/{page}'\n",
    "    # print(f\"{i+1}) {URL}\")\n",
    "    matches[URL]=[]\n",
    "    response = get(URL) # fetch the ig pages\n",
    "    html_content = response.text\n",
    "    # print(response.status_code)   \n",
    "    soup = BeautifulSoup(html_content)  # scrape the pages \n",
    "    # mypage = soup.get_text(' ', strip=True)\n",
    "    for match in search_strings:  # look for matches on each page\n",
    "      pattern = compile(match)\n",
    "      for element in soup.find_all(string=True):\n",
    "          if pattern.search(element):\n",
    "            pos = html_content.find(element.strip())  # get approx position of matches\n",
    "            matches[URL].append({\n",
    "            \"match\": match,\n",
    "            \"text\": element.strip(),\n",
    "            \"pos\": pos if pos != -1 else None,\n",
    "             })\n",
    "            # print(f\"Found {match} mentioned in {URL} at character position {pos if pos != -1 else None}\")\n",
    "            print('------------------MATCH  FOUND !!!--------------------')        "
   ]
  },
  {
   "cell_type": "markdown",
   "metadata": {},
   "source": []
  },
  {
   "cell_type": "code",
   "execution_count": 4,
   "metadata": {},
   "outputs": [
    {
     "name": "stdout",
     "output_type": "stream",
     "text": [
      "1) <http://hl7.org/fhir/us/davinci-alerts/StructureDefinition-adt-notification-condition-definitions.html>\n",
      "SNOMED\n",
      "    - Found SNOMED at character 36972 (matched text:`The data type is CodeableConcept because clinicalS...`)\n",
      "SNOMED\n",
      "    - Found SNOMED at character 39577 (matched text:`verificationStatus is not required.  For example, ...`)\n",
      "SNOMED\n",
      "    - Found SNOMED at character 48800 (matched text:`SNOMEDCTBodyStructures...`)\n",
      "2) <http://hl7.org/fhir/us/davinci-alerts/StructureDefinition-adt-notification-condition-mappings.html>\n",
      "SNOMED\n",
      "    - Found SNOMED at character 9400 (matched text:`Mappings for SNOMED CT Concept Domain Binding (htt...`)\n",
      "SNOMED\n",
      "    - Found SNOMED at character 18394 (matched text:`Mappings for SNOMED CT Attribute Binding (http://s...`)\n",
      "3) <http://hl7.org/fhir/us/davinci-alerts/StructureDefinition-adt-notification-condition.html>\n",
      "SNOMED\n",
      "    - Found SNOMED at character 55893 (matched text:`SNOMEDCTBodyStructures...`)\n",
      "SNOMED\n",
      "    - Found SNOMED at character 55893 (matched text:`SNOMEDCTBodyStructures...`)\n",
      "SNOMED\n",
      "    - Found SNOMED at character 55893 (matched text:`SNOMEDCTBodyStructures...`)\n",
      "4) <http://hl7.org/fhir/us/davinci-alerts/StructureDefinition-adt-notification-condition.profile.json.html>\n",
      "SNOMED\n",
      "    - Found SNOMED at character 22858 (matched text:`\" : \"SNOMED CT Concept Domain Binding\"\n",
      "    },\n",
      "    ...`)\n",
      "SNOMED\n",
      "    - Found SNOMED at character 24486 (matched text:`\" : \"SNOMED CT Attribute Binding\"\n",
      "    }\n",
      "  ],\n",
      "  \"...`)\n",
      "SNOMED\n",
      "    - Found SNOMED at character 84616 (matched text:`\" : \"The data type is CodeableConcept because clin...`)\n",
      "SNOMED\n",
      "    - Found SNOMED at character 91173 (matched text:`\" : \"verificationStatus is not required.  For exam...`)\n"
     ]
    }
   ],
   "source": [
    "# Print out all nice n pretty like in markdown\n",
    "i = 0\n",
    "for k,v in sorted(matches.items()):\n",
    "    \n",
    "    if v:\n",
    "      i += 1\n",
    "      print(f\"{i}) <{k}>\")\n",
    "      for mymatch in v:\n",
    "        print(mymatch['match'])\n",
    "        print(f\"    - Found {mymatch['match']} at character {mymatch['pos']} (matched text:`{mymatch['text'][0:50].replace('>','&gt;').replace('<','&lt;')}...`)\")"
   ]
  }
 ],
 "metadata": {
  "kernelspec": {
   "display_name": "webscraper",
   "language": "python",
   "name": "python3"
  },
  "language_info": {
   "codemirror_mode": {
    "name": "ipython",
    "version": 3
   },
   "file_extension": ".py",
   "mimetype": "text/x-python",
   "name": "python",
   "nbconvert_exporter": "python",
   "pygments_lexer": "ipython3",
   "version": "3.7.12"
  },
  "orig_nbformat": 4
 },
 "nbformat": 4,
 "nbformat_minor": 2
}
